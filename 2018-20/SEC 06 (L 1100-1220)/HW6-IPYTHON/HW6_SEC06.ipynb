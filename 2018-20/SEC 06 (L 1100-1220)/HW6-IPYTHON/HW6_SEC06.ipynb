{
 "cells": [
  {
   "cell_type": "markdown",
   "metadata": {},
   "source": [
    "# Tarea 6 iPython\n",
    "## Semana 8\n",
    "## SEC-06"
   ]
  },
  {
   "cell_type": "markdown",
   "metadata": {},
   "source": [
    "La solución debe subirse a SicuaPlus en un único archivo con el nombre $\\verb|NombreApellido_hw6.ipynb|$ antes de que termine la clase. Todos los puntos deben resolverse en este **mismo cuaderno**."
   ]
  },
  {
   "cell_type": "markdown",
   "metadata": {},
   "source": [
    "En este ejercicio exploraremos con una mayor profundidad el uso de clases para la solución de un problema, además de familiarizarnos con el entorno de programación interactivo en el cuaderno de **iPython**."
   ]
  },
  {
   "cell_type": "markdown",
   "metadata": {},
   "source": [
    "## Punto 1 (2.5)"
   ]
  },
  {
   "cell_type": "markdown",
   "metadata": {},
   "source": [
    "Los bancos deben tener un sistema de organización de datos bastante robustos debido a la gran cantidad de clientes que manejan y las transacciones que estos realizan. Uno de las pilares que maneja un banco es la información de la cuenta de un cliente, usualmente estas contienen información relacionada con el cliente como **nombre** del cliente, **número** de la cuenta, **la fecha** de apertura, el **balance** actual y la cantidad de **transacciones realizadas**.\n",
    "\n",
    "Debido a que Python no posee una palabra especial para definir que los atributos no sean modificados fuera de la clase, una convención ha sido determinada por los programadores, la cual consiste en escribir el nombre del atributo antecedido por un *underscore* \"_\", es decir si el atributo sin protección es llamado $\\verb|color|$ el atributo no modificable será $\\_\\verb|color|$. Tenga en cuenta esta convención al nombrar los atributos de la clase. \n",
    "\n",
    "1. (0.5) Escriba el método constructor de la clase.\n",
    "2. (0.5) Cree un método que retorne el balance actual de la cuenta.\n",
    "3. (0.5) Escriba dos métodos que permitan hacer operaciones en la cuenta, uno para extraer dinero de la cuenta y el otro para introducir dinero.\n",
    "4. (0.5) Cree un método que permita conocer la cantidad de transacciones realizadas sobre la cuenta actualmente.\n",
    "5. (0.5) Cree un método que imprima un mensaje indicando el nombre del cliente, los últimos 4 dígitos del número de la cuenta, el saldo actual y las transacciones actuales.\n"
   ]
  },
  {
   "cell_type": "markdown",
   "metadata": {},
   "source": [
    "## Punto 2 (1.0)"
   ]
  },
  {
   "cell_type": "markdown",
   "metadata": {},
   "source": [
    "Inicialice un objeto de tipo *Cuenta* con un saldo de USD 1000. Cree un vector de 100 retiros los cuales deben seguir la función $50x+100$, donde $x$ corresponde al número del retiro actual.\n",
    "Aplique estos retiros a la cuenta creada."
   ]
  },
  {
   "cell_type": "markdown",
   "metadata": {},
   "source": [
    "## Punto 3 (1.0)"
   ]
  },
  {
   "cell_type": "markdown",
   "metadata": {},
   "source": [
    "Cree un vector del mismo tamaño que el anterior, cuyos valores deben seguir la función $y^2$, donde $y$ corresponde al númer del deposito actual. Aplique estos depósitos a la cuenta creada"
   ]
  },
  {
   "cell_type": "markdown",
   "metadata": {},
   "source": [
    "## Punto 4 (0.5)"
   ]
  },
  {
   "cell_type": "markdown",
   "metadata": {},
   "source": [
    "Grafique el saldo de la cuenta respecto al número de transacciones. Es recomendable ir guardando el valor del saldo de la cuenta y el número de transacciones por cada operación que se realice en la cuenta (**Puntos 2 y 3**)."
   ]
  }
 ],
 "metadata": {
  "kernelspec": {
   "display_name": "Python 2",
   "language": "python",
   "name": "python2"
  },
  "language_info": {
   "codemirror_mode": {
    "name": "ipython",
    "version": 2
   },
   "file_extension": ".py",
   "mimetype": "text/x-python",
   "name": "python",
   "nbconvert_exporter": "python",
   "pygments_lexer": "ipython2",
   "version": "2.7.14"
  }
 },
 "nbformat": 4,
 "nbformat_minor": 2
}
