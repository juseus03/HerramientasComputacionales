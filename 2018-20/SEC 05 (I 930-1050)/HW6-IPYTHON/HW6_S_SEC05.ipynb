{
 "cells": [
  {
   "cell_type": "markdown",
   "metadata": {},
   "source": [
    "# Tarea 6 iPython\n",
    "## Semana 8\n",
    "## SEC-05\n",
    "\n",
    "La solución debe subirse a SicuaPlus en un único archivo con el nombre $\\verb|NombreApellido_hw6.ipynb|$ antes de que termine la clase. Todos los puntos deben resolverse en este **mismo cuaderno**.\n",
    "\n",
    "En este ejercicio exploraremos con una mayor profundidad el uso de clases para la solución de un problema, además de familiarizarnos con el entorno de programación interactivo en el cuaderno de **iPython**."
   ]
  },
  {
   "cell_type": "markdown",
   "metadata": {},
   "source": [
    "Los vectores en el plano son descritos por una pareja de coordenadas $(x,y)$, los cuales tienen reglas especiales para la suma, resta, multiplicación (producto interno), la norma del vector y la multiplicación por escalar.\n",
    "\n",
    "$$(a,b)+(c,d) = (a+c,b+d)$$\n",
    "$$(a,b)-(c,d) = (a-c,b-d)$$\n",
    "$$ (a,b) \\cdot (c,d) = ac+bd$$\n",
    "$$||(a,b)|| = \\sqrt{a^2+b^2}$$\n",
    "\n",
    "Además, para que dos vectores sean iguales sus componentes deben ser iguales, es decir a=b y c=d."
   ]
  },
  {
   "cell_type": "markdown",
   "metadata": {},
   "source": [
    "## Punto 1 (2.5)\n",
    "Escriba la clase **VEC2D** la cual modele un vector en el plano $xy$. La clase debe tener los siguientes métodos:\n",
    "\n",
    "1. **Suma**: retorna un objeto **VEC2D** que corresponde a la suma del vector con otro que entra por parámetro.\n",
    "2. **Resta**: retorna un objeto **VEC2D** que corresponde a la resta del vector con otro que entra por parámetro.\n",
    "3. **Producto**: retorna el valor del producto interno entre el vector actual y uno dado por parámetro.\n",
    "4. **Norma**: calcula y retorna la norma del vector.\n",
    "5. **ProdEscalar**: calcula y retorna un objeto **VEC2D** correspondiente al producto de este vector por una escalar $C$ dada por parámetro.\n",
    "6. **Equals**: Debe indicar si el vector es igual al vector que llega por parámetro.\n",
    "7. **Imprimir**: imprime el vector con el formato $(x,y) = (V_x,V_y)$ donde $V_x$ y $V_y$ corresponden a los valores de las componentes del vector.\n",
    "\n",
    "Recuerde que en Python los atributos de un objeto son públicos y pueden ser llamados de la forma *vector.x* para retornar la componente del vector en la coordenada *x*. Importe la librería pylab *(%pylab inline)* antes de generar la clase para poder utilizar la función de raíz cuadrada (sqrt())."
   ]
  },
  {
   "cell_type": "code",
   "execution_count": 2,
   "metadata": {},
   "outputs": [
    {
     "name": "stdout",
     "output_type": "stream",
     "text": [
      "Populating the interactive namespace from numpy and matplotlib\n"
     ]
    }
   ],
   "source": [
    "%pylab inline"
   ]
  },
  {
   "cell_type": "code",
   "execution_count": 4,
   "metadata": {},
   "outputs": [],
   "source": [
    "class VEC2D:\n",
    "    def __init__(self,x0,y0):\n",
    "        self.x = x0\n",
    "        self.y = y0\n",
    "        \n",
    "    def Suma(self,vector):\n",
    "        return VEC2D(self.x+vector.x,self.y+vector.y)\n",
    "    \n",
    "    def Resta(self,vector):\n",
    "        return VEC2D(self.x-vector.x,self.y-vector.y)\n",
    "    \n",
    "    def Producto(self,vector):\n",
    "        return self.x*vector.x+self.y*vector.y\n",
    "    \n",
    "    def Norma(self):\n",
    "        return sqrt(self.x**2+self.y**2)\n",
    "    \n",
    "    def ProdEscalar(self,C):\n",
    "        return VEC2D(self.x*C,self.y*C)\n",
    "    \n",
    "    def Equal(self,vector):\n",
    "        return self.x==vector.x and self.y==vector.y\n",
    "    \n",
    "    def imprimir(self):\n",
    "        print \"(x,y)=(\",self.x,\",\",self.y,\")\""
   ]
  },
  {
   "cell_type": "markdown",
   "metadata": {},
   "source": [
    "## Punto 2 (1.0)\n",
    "\n",
    "Cree 4 objetos de tipo **VEC2D** cuyas componentes sean números enteros y nómbrelos $V_1,V_2,V_3,V_4$. Realice e imporima las siguientes operaciones:\n",
    "\n",
    "1. $V_1+(V_2\\cdot V_4)*V_4$\n",
    "2. $||V_4-V_1||/||V_2+V_3||$\n",
    "3. Comprobar sí $V_1+2*V_3$ es igual a $5*V_2-10V_4$"
   ]
  },
  {
   "cell_type": "code",
   "execution_count": 20,
   "metadata": {},
   "outputs": [
    {
     "name": "stdout",
     "output_type": "stream",
     "text": [
      "1.\n",
      "(x,y)=( 5 , 4 )\n",
      "2.\n",
      "1.0\n",
      "3\n",
      "False\n"
     ]
    }
   ],
   "source": [
    "#Objetos\n",
    "v1=VEC2D(1,0)\n",
    "v2=VEC2D(0,1)\n",
    "v3=VEC2D(1,1)\n",
    "v4=VEC2D(2,2)\n",
    "\n",
    "#1\n",
    "r1 = v1.Suma(v4.ProdEscalar(v2.Producto(v4)))\n",
    "print \"1.\"\n",
    "r1.imprimir()\n",
    "\n",
    "#2\n",
    "r2a = v4.Resta(v1)\n",
    "r2b = v2.Suma(v3)\n",
    "print \"2.\"\n",
    "print r2a.Norma()/r2b.Norma()\n",
    "\n",
    "#3\n",
    "print \"3\"\n",
    "r3a = v1.Suma(v3.ProdEscalar(2))\n",
    "r3b = (v2.ProdEscalar(5)).Resta(v4.ProdEscalar(10))\n",
    "print r3a.Equal(r3b)"
   ]
  },
  {
   "cell_type": "markdown",
   "metadata": {},
   "source": [
    "## Punto 3 (1.5)\n",
    "\n",
    "Se quiere simular el comportamiento de la velocidad en un movimiento de caida libre, para esto:\n",
    "1. Cree un vector con las coordenadas $(0,50)$ que modela la velocidad inicial ($v_0$) de la partícula.\n",
    "2. Defina las variables $g=9.8, \\Delta t=0.005$\n",
    "4. Recordando que la evolución de la velocidad en caida libre está dada por la ecuación $v_{i+1}=v_{i}-g\\Delta t$, simule el comportamiento de la velocidad por 10s, como se hizo en el video sobre programación orientada a objetos. Se recomienda crear un vector que tome el valor $(0,g*t)$\n",
    "5. Grafique la evolución temporal de la velocidad en $y$.\n"
   ]
  },
  {
   "cell_type": "code",
   "execution_count": 23,
   "metadata": {},
   "outputs": [
    {
     "data": {
      "text/plain": [
       "[<matplotlib.lines.Line2D at 0x7f21fe87b3d0>]"
      ]
     },
     "execution_count": 23,
     "metadata": {},
     "output_type": "execute_result"
    },
    {
     "data": {
      "image/png": "[encoded data removed]",
      "text/plain": [
       "<Figure size 432x288 with 1 Axes>"
      ]
     },
     "metadata": {
      "needs_background": "light"
     },
     "output_type": "display_data"
    }
   ],
   "source": [
    "vel = VEC2D(0,50)\n",
    "g,dt = 9.8,0.005\n",
    "t = 0\n",
    "listaTiempos = []\n",
    "listaVel = []\n",
    "vect =VEC2D(0,g*dt)\n",
    "\n",
    "while t<=10:\n",
    "    listaTiempos.append(t)\n",
    "    listaVel.append(vel.y)\n",
    "    vel = vel.Resta(vect)\n",
    "    t+=dt\n",
    "\n",
    "plot(listaTiempos,listaVel)"
   ]
  }
 ],
 "metadata": {
  "kernelspec": {
   "display_name": "Python 2",
   "language": "python",
   "name": "python2"
  },
  "language_info": {
   "codemirror_mode": {
    "name": "ipython",
    "version": 2
   },
   "file_extension": ".py",
   "mimetype": "text/x-python",
   "name": "python",
   "nbconvert_exporter": "python",
   "pygments_lexer": "ipython2",
   "version": "2.7.14"
  }
 },
 "nbformat": 4,
 "nbformat_minor": 2
}
